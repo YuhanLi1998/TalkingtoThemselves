{
 "cells": [
  {
   "cell_type": "code",
   "execution_count": 156,
   "id": "68fdd547",
   "metadata": {},
   "outputs": [],
   "source": [
    "import pandas as pd\n",
    "import jieba.posseg as pseg\n",
    "import jieba\n",
    "import numpy as np\n",
    "from sklearn.feature_extraction.text import CountVectorizer, TfidfVectorizer\n",
    "from sklearn.ensemble import RandomForestClassifier\n",
    "from sklearn.linear_model import LogisticRegression\n",
    "from sklearn.decomposition import NMF\n",
    "import requests\n",
    "from sklearn.model_selection import train_test_split, cross_val_score\n",
    "import numpy as np\n",
    "import math\n",
    "from sklearn.preprocessing import MultiLabelBinarizer\n",
    "from sklearn.multiclass import OneVsRestClassifier\n",
    "import matplotlib.pyplot as plt\n",
    "from sklearn.naive_bayes import BernoulliNB\n",
    "from sklearn.svm import SVC\n",
    "from sklearn.metrics import roc_curve\n",
    "\n",
    "import os\n",
    "\n",
    "%matplotlib inline"
   ]
  },
  {
   "cell_type": "code",
   "execution_count": 157,
   "id": "a3d4cf4e",
   "metadata": {},
   "outputs": [
    {
     "name": "stdout",
     "output_type": "stream",
     "text": [
      "Requirement already satisfied: opencc in /Library/Frameworks/Python.framework/Versions/3.10/lib/python3.10/site-packages (0.2)\r\n"
     ]
    }
   ],
   "source": [
    "!pip install opencc"
   ]
  },
  {
   "cell_type": "code",
   "execution_count": 158,
   "id": "c5477d2b",
   "metadata": {},
   "outputs": [],
   "source": [
    "#importlib.reload(sys)\n",
    "#sys.setdefaultencoding('utf8')\n",
    "#Since the default on Python 3 is UTF-8 already, there is no point in leaving those statements in."
   ]
  },
  {
   "cell_type": "code",
   "execution_count": 159,
   "id": "1496f2ba",
   "metadata": {},
   "outputs": [
    {
     "name": "stdout",
     "output_type": "stream",
     "text": [
      "7935\n",
      "2431\n"
     ]
    }
   ],
   "source": [
    "stopwords = list()\n",
    "for file in os.listdir(\"./stop_common/\"):\n",
    "    if \".DS_\" not in file:\n",
    "        with open(\"./stop_common/\" + file, \"r\", encoding=\"utf-8\") as f:\n",
    "            for line in f.readlines():\n",
    "                stopwords.append(line.strip())\n",
    "print(len(stopwords))\n",
    "\n",
    "# 对停用词表进行去重：求集合（去重），再转换为列表\n",
    "stopwords = list(set(stopwords))\n",
    "print(len(stopwords))"
   ]
  },
  {
   "cell_type": "code",
   "execution_count": 160,
   "id": "8d9e4fff",
   "metadata": {},
   "outputs": [
    {
     "name": "stdout",
     "output_type": "stream",
     "text": [
      "435\n",
      "406\n"
     ]
    }
   ],
   "source": [
    "# 构建自定义词典\n",
    "selfdict = list()\n",
    "with open(\"./selfdefineddict.txt\", \"r\", encoding = 'utf-8') as f:\n",
    "    for line in f.readlines():\n",
    "        selfdict.append(line.strip())\n",
    "print(len(selfdict))\n",
    "\n",
    "selfdict = list(set(selfdict))\n",
    "print(len(selfdict))\n",
    "with open(\"./selfdefineddict_new.txt\", \"w\", encoding = \"utf-8\") as t:\n",
    "    for word in selfdict:\n",
    "        t.write(word + \" n\" + \"\\n\")\n",
    "\n",
    "# 引入自定义词表，需要注意：使用 jieba 自带的并行分词模式（enable_parallel）时，自定义词表会失效\n",
    "# 如果要提升分词效率，请自己设计多线程\n",
    "jieba.load_userdict(\"./selfdefineddict_new.txt\")"
   ]
  },
  {
   "cell_type": "code",
   "execution_count": 161,
   "id": "227283cc",
   "metadata": {},
   "outputs": [],
   "source": [
    "# 定义分词函数\n",
    "def tokenize(text):\n",
    "    kept_words = list()\n",
    "    for word, flag in pseg.cut(text):\n",
    "        # 过滤停用词和词数小于1的词\n",
    "        if (word not in stopwords) and \\\n",
    "        (len(word) > 1):\n",
    "            kept_words.append(word)\n",
    "    return \" \".join(kept_words)"
   ]
  },
  {
   "cell_type": "code",
   "execution_count": 162,
   "id": "679be4b2",
   "metadata": {},
   "outputs": [
    {
     "data": {
      "text/html": [
       "<div>\n",
       "<style scoped>\n",
       "    .dataframe tbody tr th:only-of-type {\n",
       "        vertical-align: middle;\n",
       "    }\n",
       "\n",
       "    .dataframe tbody tr th {\n",
       "        vertical-align: top;\n",
       "    }\n",
       "\n",
       "    .dataframe thead th {\n",
       "        text-align: right;\n",
       "    }\n",
       "</style>\n",
       "<table border=\"1\" class=\"dataframe\">\n",
       "  <thead>\n",
       "    <tr style=\"text-align: right;\">\n",
       "      <th></th>\n",
       "      <th>Unnamed: 0</th>\n",
       "      <th>recordid</th>\n",
       "      <th>content</th>\n",
       "      <th>attitude</th>\n",
       "      <th>parsed</th>\n",
       "    </tr>\n",
       "  </thead>\n",
       "  <tbody>\n",
       "    <tr>\n",
       "      <th>0</th>\n",
       "      <td>1.0</td>\n",
       "      <td>221591.0</td>\n",
       "      <td>本来气候问题就是忽悠发展中国家去工业化的(╯3╰)</td>\n",
       "      <td>2</td>\n",
       "      <td>本来 气候 忽悠 发展中国家 去工业化</td>\n",
       "    </tr>\n",
       "    <tr>\n",
       "      <th>1</th>\n",
       "      <td>2.0</td>\n",
       "      <td>221595.0</td>\n",
       "      <td>你们不觉得空气质量越来越差了吗……？</td>\n",
       "      <td>1</td>\n",
       "      <td>空气质量 越来越差</td>\n",
       "    </tr>\n",
       "    <tr>\n",
       "      <th>2</th>\n",
       "      <td>3.0</td>\n",
       "      <td>221603.0</td>\n",
       "      <td>这个法国总统就是垃圾。试目以待。现在看起来支持的人最多。但他走的路可并不是光明的。</td>\n",
       "      <td>4</td>\n",
       "      <td>法国 总统 垃圾 试目 以待 支持 光明</td>\n",
       "    </tr>\n",
       "    <tr>\n",
       "      <th>3</th>\n",
       "      <td>4.0</td>\n",
       "      <td>221605.0</td>\n",
       "      <td>不懂弹幕为啥嘲讽马克龙，要是勒庞那个极右上台，你以为黄种人对他们来说跟穆斯林有区别么，法国的...</td>\n",
       "      <td>4</td>\n",
       "      <td>弹幕 为啥 嘲讽 马克龙 勒庞 极右 上台 黄种人 穆斯林 区别 法国 亚裔 遭殃</td>\n",
       "    </tr>\n",
       "    <tr>\n",
       "      <th>4</th>\n",
       "      <td>5.0</td>\n",
       "      <td>221606.0</td>\n",
       "      <td>(-_-#)美国人的确需要环保了，人均资源消耗量是中国的数倍</td>\n",
       "      <td>3</td>\n",
       "      <td>美国 环保 人均 资源 消耗量 中国 数倍</td>\n",
       "    </tr>\n",
       "  </tbody>\n",
       "</table>\n",
       "</div>"
      ],
      "text/plain": [
       "   Unnamed: 0  recordid                                            content  \\\n",
       "0         1.0  221591.0                          本来气候问题就是忽悠发展中国家去工业化的(╯3╰)   \n",
       "1         2.0  221595.0                                 你们不觉得空气质量越来越差了吗……？   \n",
       "2         3.0  221603.0          这个法国总统就是垃圾。试目以待。现在看起来支持的人最多。但他走的路可并不是光明的。   \n",
       "3         4.0  221605.0  不懂弹幕为啥嘲讽马克龙，要是勒庞那个极右上台，你以为黄种人对他们来说跟穆斯林有区别么，法国的...   \n",
       "4         5.0  221606.0                     (-_-#)美国人的确需要环保了，人均资源消耗量是中国的数倍   \n",
       "\n",
       "  attitude                                     parsed  \n",
       "0        2                        本来 气候 忽悠 发展中国家 去工业化  \n",
       "1        1                                  空气质量 越来越差  \n",
       "2        4                       法国 总统 垃圾 试目 以待 支持 光明  \n",
       "3        4  弹幕 为啥 嘲讽 马克龙 勒庞 极右 上台 黄种人 穆斯林 区别 法国 亚裔 遭殃  \n",
       "4        3                      美国 环保 人均 资源 消耗量 中国 数倍  "
      ]
     },
     "execution_count": 162,
     "metadata": {},
     "output_type": "execute_result"
    }
   ],
   "source": [
    "# 读取训练集并进行清洗\n",
    "# 修改训练集标注方式\n",
    "codesample = pd.read_csv('./mytrainingset_3240.csv')\n",
    "try:\n",
    "    codesample['parsed']\n",
    "except:\n",
    "    codesample['parsed'] = codesample.content.apply(tokenize)\n",
    "\n",
    "codesample['attitude'] = codesample['attitude'].astype(str)\n",
    "codesample.head()"
   ]
  },
  {
   "cell_type": "code",
   "execution_count": 163,
   "id": "0d30e841",
   "metadata": {},
   "outputs": [],
   "source": [
    "# 将训练集文本向量化\n",
    "cv = CountVectorizer()\n",
    "codesample['parsed'] = codesample.parsed.fillna('')\n",
    "X = cv.fit_transform(codesample.parsed)"
   ]
  },
  {
   "cell_type": "code",
   "execution_count": 164,
   "id": "988cdd21",
   "metadata": {},
   "outputs": [
    {
     "data": {
      "text/html": [
       "<div>\n",
       "<style scoped>\n",
       "    .dataframe tbody tr th:only-of-type {\n",
       "        vertical-align: middle;\n",
       "    }\n",
       "\n",
       "    .dataframe tbody tr th {\n",
       "        vertical-align: top;\n",
       "    }\n",
       "\n",
       "    .dataframe thead th {\n",
       "        text-align: right;\n",
       "    }\n",
       "</style>\n",
       "<table border=\"1\" class=\"dataframe\">\n",
       "  <thead>\n",
       "    <tr style=\"text-align: right;\">\n",
       "      <th></th>\n",
       "      <th>recordid</th>\n",
       "      <th>&lt;fullpath&gt;</th>\n",
       "      <th>&lt;realpath&gt;</th>\n",
       "      <th>&lt;pageno&gt;</th>\n",
       "      <th>&lt;createdate&gt;</th>\n",
       "      <th>videoname</th>\n",
       "      <th>一级分类</th>\n",
       "      <th>二级分类</th>\n",
       "      <th>up主</th>\n",
       "      <th>播放数</th>\n",
       "      <th>...</th>\n",
       "      <th>视频发布时间</th>\n",
       "      <th>comment_content</th>\n",
       "      <th>评论作者</th>\n",
       "      <th>评论时间</th>\n",
       "      <th>评论点赞数</th>\n",
       "      <th>来自客户端</th>\n",
       "      <th>reply_content</th>\n",
       "      <th>回复时间</th>\n",
       "      <th>回复作者</th>\n",
       "      <th>点赞数</th>\n",
       "    </tr>\n",
       "  </thead>\n",
       "  <tbody>\n",
       "    <tr>\n",
       "      <th>0</th>\n",
       "      <td>380465</td>\n",
       "      <td>https://www.bilibili.com/video/BV1cJ41157FP?fr...</td>\n",
       "      <td>https://www.bilibili.com/video/BV1cJ41157FP?fr...</td>\n",
       "      <td>0</td>\n",
       "      <td>2021-12-26 12:55:09.0</td>\n",
       "      <td>来了！澳大利亚最大军舰驶入火场</td>\n",
       "      <td>NaN</td>\n",
       "      <td>NaN</td>\n",
       "      <td>环球网\\n        \\n</td>\n",
       "      <td>15.9万播放 ·</td>\n",
       "      <td>...</td>\n",
       "      <td>2020-01-07 15:23:34</td>\n",
       "      <td>派出30名消防员把我给整乐了加拿大</td>\n",
       "      <td>做一个受小姐姐欢迎的人</td>\n",
       "      <td>2020-01-07 15:57</td>\n",
       "      <td>2408.0</td>\n",
       "      <td>NaN</td>\n",
       "      <td>塑料英联邦情</td>\n",
       "      <td>2020-01-07 19:48</td>\n",
       "      <td>土拨鼠暴打藏狐</td>\n",
       "      <td>140</td>\n",
       "    </tr>\n",
       "    <tr>\n",
       "      <th>1</th>\n",
       "      <td>380466</td>\n",
       "      <td>https://www.bilibili.com/video/BV1cJ41157FP?fr...</td>\n",
       "      <td>https://www.bilibili.com/video/BV1cJ41157FP?fr...</td>\n",
       "      <td>0</td>\n",
       "      <td>2021-12-26 12:55:09.0</td>\n",
       "      <td>来了！澳大利亚最大军舰驶入火场</td>\n",
       "      <td>NaN</td>\n",
       "      <td>NaN</td>\n",
       "      <td>环球网\\n        \\n</td>\n",
       "      <td>15.9万播放 ·</td>\n",
       "      <td>...</td>\n",
       "      <td>2020-01-07 15:23:34</td>\n",
       "      <td>派出30名消防员把我给整乐了加拿大</td>\n",
       "      <td>做一个受小姐姐欢迎的人</td>\n",
       "      <td>2020-01-07 15:57</td>\n",
       "      <td>2408.0</td>\n",
       "      <td>NaN</td>\n",
       "      <td>说不定是派了30名公款旅游的大爷来的。</td>\n",
       "      <td>2020-01-07 20:55</td>\n",
       "      <td>伪君子-真小人</td>\n",
       "      <td>129</td>\n",
       "    </tr>\n",
       "    <tr>\n",
       "      <th>2</th>\n",
       "      <td>380467</td>\n",
       "      <td>https://www.bilibili.com/video/BV1cJ41157FP?fr...</td>\n",
       "      <td>https://www.bilibili.com/video/BV1cJ41157FP?fr...</td>\n",
       "      <td>0</td>\n",
       "      <td>2021-12-26 12:55:09.0</td>\n",
       "      <td>来了！澳大利亚最大军舰驶入火场</td>\n",
       "      <td>NaN</td>\n",
       "      <td>NaN</td>\n",
       "      <td>环球网\\n        \\n</td>\n",
       "      <td>15.9万播放 ·</td>\n",
       "      <td>...</td>\n",
       "      <td>2020-01-07 15:23:34</td>\n",
       "      <td>派出30名消防员把我给整乐了加拿大</td>\n",
       "      <td>做一个受小姐姐欢迎的人</td>\n",
       "      <td>2020-01-07 15:57</td>\n",
       "      <td>2408.0</td>\n",
       "      <td>NaN</td>\n",
       "      <td>可能加拿大也就三十多个消防员呢</td>\n",
       "      <td>2020-01-07 18:52</td>\n",
       "      <td>二次元勋宗</td>\n",
       "      <td>117</td>\n",
       "    </tr>\n",
       "    <tr>\n",
       "      <th>3</th>\n",
       "      <td>380468</td>\n",
       "      <td>https://www.bilibili.com/video/BV1cJ41157FP?fr...</td>\n",
       "      <td>https://www.bilibili.com/video/BV1cJ41157FP?fr...</td>\n",
       "      <td>0</td>\n",
       "      <td>2021-12-26 12:55:09.0</td>\n",
       "      <td>来了！澳大利亚最大军舰驶入火场</td>\n",
       "      <td>NaN</td>\n",
       "      <td>NaN</td>\n",
       "      <td>环球网\\n        \\n</td>\n",
       "      <td>15.9万播放 ·</td>\n",
       "      <td>...</td>\n",
       "      <td>2020-01-07 15:23:34</td>\n",
       "      <td>几小时后的新闻：澳大利亚最大军舰被山火吞没</td>\n",
       "      <td>珍珠奶茶李建勋</td>\n",
       "      <td>2020-01-07 15:24</td>\n",
       "      <td>2354.0</td>\n",
       "      <td>NaN</td>\n",
       "      <td>你说我一海军舰艇怎么就被山火吞没了呢，咱也不知道，咱也不敢问</td>\n",
       "      <td>2020-01-07 20:25</td>\n",
       "      <td>正在走程序的阿伟</td>\n",
       "      <td>142</td>\n",
       "    </tr>\n",
       "    <tr>\n",
       "      <th>4</th>\n",
       "      <td>380469</td>\n",
       "      <td>https://www.bilibili.com/video/BV1cJ41157FP?fr...</td>\n",
       "      <td>https://www.bilibili.com/video/BV1cJ41157FP?fr...</td>\n",
       "      <td>0</td>\n",
       "      <td>2021-12-26 12:55:09.0</td>\n",
       "      <td>来了！澳大利亚最大军舰驶入火场</td>\n",
       "      <td>NaN</td>\n",
       "      <td>NaN</td>\n",
       "      <td>环球网\\n        \\n</td>\n",
       "      <td>15.9万播放 ·</td>\n",
       "      <td>...</td>\n",
       "      <td>2020-01-07 15:23:34</td>\n",
       "      <td>几小时后的新闻：澳大利亚最大军舰被山火吞没</td>\n",
       "      <td>珍珠奶茶李建勋</td>\n",
       "      <td>2020-01-07 15:24</td>\n",
       "      <td>2354.0</td>\n",
       "      <td>NaN</td>\n",
       "      <td>这是两栖登陆舰，所以上岸了</td>\n",
       "      <td>2020-01-07 21:11</td>\n",
       "      <td>老实芭蕉的陈先生</td>\n",
       "      <td>52</td>\n",
       "    </tr>\n",
       "  </tbody>\n",
       "</table>\n",
       "<p>5 rows × 21 columns</p>\n",
       "</div>"
      ],
      "text/plain": [
       "  recordid                                         <fullpath>  \\\n",
       "0   380465  https://www.bilibili.com/video/BV1cJ41157FP?fr...   \n",
       "1   380466  https://www.bilibili.com/video/BV1cJ41157FP?fr...   \n",
       "2   380467  https://www.bilibili.com/video/BV1cJ41157FP?fr...   \n",
       "3   380468  https://www.bilibili.com/video/BV1cJ41157FP?fr...   \n",
       "4   380469  https://www.bilibili.com/video/BV1cJ41157FP?fr...   \n",
       "\n",
       "                                          <realpath> <pageno>  \\\n",
       "0  https://www.bilibili.com/video/BV1cJ41157FP?fr...        0   \n",
       "1  https://www.bilibili.com/video/BV1cJ41157FP?fr...        0   \n",
       "2  https://www.bilibili.com/video/BV1cJ41157FP?fr...        0   \n",
       "3  https://www.bilibili.com/video/BV1cJ41157FP?fr...        0   \n",
       "4  https://www.bilibili.com/video/BV1cJ41157FP?fr...        0   \n",
       "\n",
       "            <createdate>        videoname 一级分类 二级分类  \\\n",
       "0  2021-12-26 12:55:09.0  来了！澳大利亚最大军舰驶入火场  NaN  NaN   \n",
       "1  2021-12-26 12:55:09.0  来了！澳大利亚最大军舰驶入火场  NaN  NaN   \n",
       "2  2021-12-26 12:55:09.0  来了！澳大利亚最大军舰驶入火场  NaN  NaN   \n",
       "3  2021-12-26 12:55:09.0  来了！澳大利亚最大军舰驶入火场  NaN  NaN   \n",
       "4  2021-12-26 12:55:09.0  来了！澳大利亚最大军舰驶入火场  NaN  NaN   \n",
       "\n",
       "                         up主        播放数  ...               视频发布时间  \\\n",
       "0  环球网\\n        \\n            15.9万播放 ·  ...  2020-01-07 15:23:34   \n",
       "1  环球网\\n        \\n            15.9万播放 ·  ...  2020-01-07 15:23:34   \n",
       "2  环球网\\n        \\n            15.9万播放 ·  ...  2020-01-07 15:23:34   \n",
       "3  环球网\\n        \\n            15.9万播放 ·  ...  2020-01-07 15:23:34   \n",
       "4  环球网\\n        \\n            15.9万播放 ·  ...  2020-01-07 15:23:34   \n",
       "\n",
       "         comment_content         评论作者              评论时间   评论点赞数 来自客户端  \\\n",
       "0      派出30名消防员把我给整乐了加拿大  做一个受小姐姐欢迎的人  2020-01-07 15:57  2408.0   NaN   \n",
       "1      派出30名消防员把我给整乐了加拿大  做一个受小姐姐欢迎的人  2020-01-07 15:57  2408.0   NaN   \n",
       "2      派出30名消防员把我给整乐了加拿大  做一个受小姐姐欢迎的人  2020-01-07 15:57  2408.0   NaN   \n",
       "3  几小时后的新闻：澳大利亚最大军舰被山火吞没      珍珠奶茶李建勋  2020-01-07 15:24  2354.0   NaN   \n",
       "4  几小时后的新闻：澳大利亚最大军舰被山火吞没      珍珠奶茶李建勋  2020-01-07 15:24  2354.0   NaN   \n",
       "\n",
       "                    reply_content              回复时间      回复作者  点赞数  \n",
       "0                          塑料英联邦情  2020-01-07 19:48   土拨鼠暴打藏狐  140  \n",
       "1             说不定是派了30名公款旅游的大爷来的。  2020-01-07 20:55   伪君子-真小人  129  \n",
       "2                 可能加拿大也就三十多个消防员呢  2020-01-07 18:52     二次元勋宗  117  \n",
       "3  你说我一海军舰艇怎么就被山火吞没了呢，咱也不知道，咱也不敢问  2020-01-07 20:25  正在走程序的阿伟  142  \n",
       "4                   这是两栖登陆舰，所以上岸了  2020-01-07 21:11  老实芭蕉的陈先生   52  \n",
       "\n",
       "[5 rows x 21 columns]"
      ]
     },
     "execution_count": 164,
     "metadata": {},
     "output_type": "execute_result"
    }
   ],
   "source": [
    "# 读取全样本数据\n",
    "full = pd.read_csv('comment_merge.csv')\n",
    "full.rename(columns = {\"评论内容\": \"comment_content\", \"回复内容\": \"reply_content\"}, inplace = True)\n",
    "full.head()"
   ]
  },
  {
   "cell_type": "code",
   "execution_count": 80,
   "id": "0f945fec",
   "metadata": {},
   "outputs": [],
   "source": [
    "#import random\n",
    "\n",
    "#df = pd.read_csv('comment_merge.csv')\n",
    "#c = random.sample(range(1, 126851), 2000)\n",
    "#c.sort()\n",
    "#df.iloc[c]\n",
    "#df.iloc[c].to_csv('./randomsample2.csv', sep = ',')"
   ]
  },
  {
   "cell_type": "code",
   "execution_count": 165,
   "id": "cb97698e",
   "metadata": {},
   "outputs": [],
   "source": [
    "# 处理全样本中的缺失值\n",
    "full['comment_content'] = full['comment_content'].fillna('')\n",
    "full['reply_content'] = full['reply_content'].fillna('')\n",
    "\n",
    "# 清洗全样本中的评论和回复文本\n",
    "full['comment_content_parsed'] = full.comment_content.apply(tokenize)\n",
    "full['reply_content_parsed'] = full.reply_content.apply(tokenize)"
   ]
  },
  {
   "cell_type": "code",
   "execution_count": 166,
   "id": "a023dbaa",
   "metadata": {},
   "outputs": [],
   "source": [
    "# 保存清洗和分词之后的全样本\n",
    "full.to_csv('comment_merge_parsed.csv', index = None, encoding = 'utf-8')"
   ]
  },
  {
   "cell_type": "code",
   "execution_count": 134,
   "id": "1600f28e",
   "metadata": {},
   "outputs": [
    {
     "data": {
      "text/html": [
       "<div>\n",
       "<style scoped>\n",
       "    .dataframe tbody tr th:only-of-type {\n",
       "        vertical-align: middle;\n",
       "    }\n",
       "\n",
       "    .dataframe tbody tr th {\n",
       "        vertical-align: top;\n",
       "    }\n",
       "\n",
       "    .dataframe thead th {\n",
       "        text-align: right;\n",
       "    }\n",
       "</style>\n",
       "<table border=\"1\" class=\"dataframe\">\n",
       "  <thead>\n",
       "    <tr style=\"text-align: right;\">\n",
       "      <th></th>\n",
       "      <th>recordid</th>\n",
       "      <th>&lt;fullpath&gt;</th>\n",
       "      <th>&lt;realpath&gt;</th>\n",
       "      <th>&lt;pageno&gt;</th>\n",
       "      <th>&lt;createdate&gt;</th>\n",
       "      <th>videoname</th>\n",
       "      <th>一级分类</th>\n",
       "      <th>二级分类</th>\n",
       "      <th>up主</th>\n",
       "      <th>播放数</th>\n",
       "      <th>...</th>\n",
       "      <th>评论作者</th>\n",
       "      <th>评论时间</th>\n",
       "      <th>评论点赞数</th>\n",
       "      <th>来自客户端</th>\n",
       "      <th>reply_content</th>\n",
       "      <th>回复时间</th>\n",
       "      <th>回复作者</th>\n",
       "      <th>点赞数</th>\n",
       "      <th>comment_content_parsed</th>\n",
       "      <th>reply_content_parsed</th>\n",
       "    </tr>\n",
       "  </thead>\n",
       "  <tbody>\n",
       "    <tr>\n",
       "      <th>0</th>\n",
       "      <td>380465</td>\n",
       "      <td>https://www.bilibili.com/video/BV1cJ41157FP?fr...</td>\n",
       "      <td>https://www.bilibili.com/video/BV1cJ41157FP?fr...</td>\n",
       "      <td>0</td>\n",
       "      <td>2021-12-26 12:55:09.0</td>\n",
       "      <td>来了！澳大利亚最大军舰驶入火场</td>\n",
       "      <td>NaN</td>\n",
       "      <td>NaN</td>\n",
       "      <td>环球网\\n        \\n</td>\n",
       "      <td>15.9万播放 ·</td>\n",
       "      <td>...</td>\n",
       "      <td>做一个受小姐姐欢迎的人</td>\n",
       "      <td>2020-01-07 15:57</td>\n",
       "      <td>2408.0</td>\n",
       "      <td>NaN</td>\n",
       "      <td>塑料英联邦情</td>\n",
       "      <td>2020-01-07 19:48</td>\n",
       "      <td>土拨鼠暴打藏狐</td>\n",
       "      <td>140</td>\n",
       "      <td>派出 30 消防员 整乐 加拿大</td>\n",
       "      <td>塑料 英联邦</td>\n",
       "    </tr>\n",
       "    <tr>\n",
       "      <th>1</th>\n",
       "      <td>380466</td>\n",
       "      <td>https://www.bilibili.com/video/BV1cJ41157FP?fr...</td>\n",
       "      <td>https://www.bilibili.com/video/BV1cJ41157FP?fr...</td>\n",
       "      <td>0</td>\n",
       "      <td>2021-12-26 12:55:09.0</td>\n",
       "      <td>来了！澳大利亚最大军舰驶入火场</td>\n",
       "      <td>NaN</td>\n",
       "      <td>NaN</td>\n",
       "      <td>环球网\\n        \\n</td>\n",
       "      <td>15.9万播放 ·</td>\n",
       "      <td>...</td>\n",
       "      <td>做一个受小姐姐欢迎的人</td>\n",
       "      <td>2020-01-07 15:57</td>\n",
       "      <td>2408.0</td>\n",
       "      <td>NaN</td>\n",
       "      <td>说不定是派了30名公款旅游的大爷来的。</td>\n",
       "      <td>2020-01-07 20:55</td>\n",
       "      <td>伪君子-真小人</td>\n",
       "      <td>129</td>\n",
       "      <td>派出 30 消防员 整乐 加拿大</td>\n",
       "      <td>说不定 30 公款 旅游 大爷</td>\n",
       "    </tr>\n",
       "    <tr>\n",
       "      <th>2</th>\n",
       "      <td>380467</td>\n",
       "      <td>https://www.bilibili.com/video/BV1cJ41157FP?fr...</td>\n",
       "      <td>https://www.bilibili.com/video/BV1cJ41157FP?fr...</td>\n",
       "      <td>0</td>\n",
       "      <td>2021-12-26 12:55:09.0</td>\n",
       "      <td>来了！澳大利亚最大军舰驶入火场</td>\n",
       "      <td>NaN</td>\n",
       "      <td>NaN</td>\n",
       "      <td>环球网\\n        \\n</td>\n",
       "      <td>15.9万播放 ·</td>\n",
       "      <td>...</td>\n",
       "      <td>做一个受小姐姐欢迎的人</td>\n",
       "      <td>2020-01-07 15:57</td>\n",
       "      <td>2408.0</td>\n",
       "      <td>NaN</td>\n",
       "      <td>可能加拿大也就三十多个消防员呢</td>\n",
       "      <td>2020-01-07 18:52</td>\n",
       "      <td>二次元勋宗</td>\n",
       "      <td>117</td>\n",
       "      <td>派出 30 消防员 整乐 加拿大</td>\n",
       "      <td>加拿大 三十多个 消防员</td>\n",
       "    </tr>\n",
       "    <tr>\n",
       "      <th>3</th>\n",
       "      <td>380468</td>\n",
       "      <td>https://www.bilibili.com/video/BV1cJ41157FP?fr...</td>\n",
       "      <td>https://www.bilibili.com/video/BV1cJ41157FP?fr...</td>\n",
       "      <td>0</td>\n",
       "      <td>2021-12-26 12:55:09.0</td>\n",
       "      <td>来了！澳大利亚最大军舰驶入火场</td>\n",
       "      <td>NaN</td>\n",
       "      <td>NaN</td>\n",
       "      <td>环球网\\n        \\n</td>\n",
       "      <td>15.9万播放 ·</td>\n",
       "      <td>...</td>\n",
       "      <td>珍珠奶茶李建勋</td>\n",
       "      <td>2020-01-07 15:24</td>\n",
       "      <td>2354.0</td>\n",
       "      <td>NaN</td>\n",
       "      <td>你说我一海军舰艇怎么就被山火吞没了呢，咱也不知道，咱也不敢问</td>\n",
       "      <td>2020-01-07 20:25</td>\n",
       "      <td>正在走程序的阿伟</td>\n",
       "      <td>142</td>\n",
       "      <td>几小时 新闻 澳大利亚 军舰 山火 吞没</td>\n",
       "      <td>海军 舰艇 山火 吞没</td>\n",
       "    </tr>\n",
       "    <tr>\n",
       "      <th>4</th>\n",
       "      <td>380469</td>\n",
       "      <td>https://www.bilibili.com/video/BV1cJ41157FP?fr...</td>\n",
       "      <td>https://www.bilibili.com/video/BV1cJ41157FP?fr...</td>\n",
       "      <td>0</td>\n",
       "      <td>2021-12-26 12:55:09.0</td>\n",
       "      <td>来了！澳大利亚最大军舰驶入火场</td>\n",
       "      <td>NaN</td>\n",
       "      <td>NaN</td>\n",
       "      <td>环球网\\n        \\n</td>\n",
       "      <td>15.9万播放 ·</td>\n",
       "      <td>...</td>\n",
       "      <td>珍珠奶茶李建勋</td>\n",
       "      <td>2020-01-07 15:24</td>\n",
       "      <td>2354.0</td>\n",
       "      <td>NaN</td>\n",
       "      <td>这是两栖登陆舰，所以上岸了</td>\n",
       "      <td>2020-01-07 21:11</td>\n",
       "      <td>老实芭蕉的陈先生</td>\n",
       "      <td>52</td>\n",
       "      <td>几小时 新闻 澳大利亚 军舰 山火 吞没</td>\n",
       "      <td>两栖 登陆舰 上岸</td>\n",
       "    </tr>\n",
       "  </tbody>\n",
       "</table>\n",
       "<p>5 rows × 23 columns</p>\n",
       "</div>"
      ],
      "text/plain": [
       "  recordid                                         <fullpath>  \\\n",
       "0   380465  https://www.bilibili.com/video/BV1cJ41157FP?fr...   \n",
       "1   380466  https://www.bilibili.com/video/BV1cJ41157FP?fr...   \n",
       "2   380467  https://www.bilibili.com/video/BV1cJ41157FP?fr...   \n",
       "3   380468  https://www.bilibili.com/video/BV1cJ41157FP?fr...   \n",
       "4   380469  https://www.bilibili.com/video/BV1cJ41157FP?fr...   \n",
       "\n",
       "                                          <realpath> <pageno>  \\\n",
       "0  https://www.bilibili.com/video/BV1cJ41157FP?fr...        0   \n",
       "1  https://www.bilibili.com/video/BV1cJ41157FP?fr...        0   \n",
       "2  https://www.bilibili.com/video/BV1cJ41157FP?fr...        0   \n",
       "3  https://www.bilibili.com/video/BV1cJ41157FP?fr...        0   \n",
       "4  https://www.bilibili.com/video/BV1cJ41157FP?fr...        0   \n",
       "\n",
       "            <createdate>        videoname 一级分类 二级分类  \\\n",
       "0  2021-12-26 12:55:09.0  来了！澳大利亚最大军舰驶入火场  NaN  NaN   \n",
       "1  2021-12-26 12:55:09.0  来了！澳大利亚最大军舰驶入火场  NaN  NaN   \n",
       "2  2021-12-26 12:55:09.0  来了！澳大利亚最大军舰驶入火场  NaN  NaN   \n",
       "3  2021-12-26 12:55:09.0  来了！澳大利亚最大军舰驶入火场  NaN  NaN   \n",
       "4  2021-12-26 12:55:09.0  来了！澳大利亚最大军舰驶入火场  NaN  NaN   \n",
       "\n",
       "                         up主        播放数  ...         评论作者              评论时间  \\\n",
       "0  环球网\\n        \\n            15.9万播放 ·  ...  做一个受小姐姐欢迎的人  2020-01-07 15:57   \n",
       "1  环球网\\n        \\n            15.9万播放 ·  ...  做一个受小姐姐欢迎的人  2020-01-07 15:57   \n",
       "2  环球网\\n        \\n            15.9万播放 ·  ...  做一个受小姐姐欢迎的人  2020-01-07 15:57   \n",
       "3  环球网\\n        \\n            15.9万播放 ·  ...      珍珠奶茶李建勋  2020-01-07 15:24   \n",
       "4  环球网\\n        \\n            15.9万播放 ·  ...      珍珠奶茶李建勋  2020-01-07 15:24   \n",
       "\n",
       "    评论点赞数 来自客户端                   reply_content              回复时间      回复作者  \\\n",
       "0  2408.0   NaN                          塑料英联邦情  2020-01-07 19:48   土拨鼠暴打藏狐   \n",
       "1  2408.0   NaN             说不定是派了30名公款旅游的大爷来的。  2020-01-07 20:55   伪君子-真小人   \n",
       "2  2408.0   NaN                 可能加拿大也就三十多个消防员呢  2020-01-07 18:52     二次元勋宗   \n",
       "3  2354.0   NaN  你说我一海军舰艇怎么就被山火吞没了呢，咱也不知道，咱也不敢问  2020-01-07 20:25  正在走程序的阿伟   \n",
       "4  2354.0   NaN                   这是两栖登陆舰，所以上岸了  2020-01-07 21:11  老实芭蕉的陈先生   \n",
       "\n",
       "   点赞数 comment_content_parsed reply_content_parsed  \n",
       "0  140       派出 30 消防员 整乐 加拿大               塑料 英联邦  \n",
       "1  129       派出 30 消防员 整乐 加拿大      说不定 30 公款 旅游 大爷  \n",
       "2  117       派出 30 消防员 整乐 加拿大         加拿大 三十多个 消防员  \n",
       "3  142   几小时 新闻 澳大利亚 军舰 山火 吞没          海军 舰艇 山火 吞没  \n",
       "4   52   几小时 新闻 澳大利亚 军舰 山火 吞没            两栖 登陆舰 上岸  \n",
       "\n",
       "[5 rows x 23 columns]"
      ]
     },
     "execution_count": 134,
     "metadata": {},
     "output_type": "execute_result"
    }
   ],
   "source": [
    "full = pd.read_csv('comment_merge_parsed.csv')\n",
    "full.head()"
   ]
  },
  {
   "cell_type": "code",
   "execution_count": 167,
   "id": "5b94278d",
   "metadata": {},
   "outputs": [],
   "source": [
    "# 处理清洗和分词之后的全样本文本缺失值并向量化\n",
    "full['comment_content_parsed'] = full.comment_content_parsed.fillna('')\n",
    "full['reply_content_parsed'] = full.reply_content_parsed.fillna('')\n",
    "\n",
    "dtm_full_1 = cv.transform(full['comment_content_parsed'])\n",
    "dtm_full_2 = cv.transform(full['reply_content_parsed'])"
   ]
  },
  {
   "cell_type": "code",
   "execution_count": 171,
   "id": "ff0e35e5",
   "metadata": {},
   "outputs": [
    {
     "name": "stdout",
     "output_type": "stream",
     "text": [
      "[0.49691358 0.49691358 0.44444444 0.48611111 0.54095827]\n",
      "[0.53395062 0.50154321 0.44907407 0.50617284 0.53323029]\n",
      "[0.5        0.49074074 0.45679012 0.48302469 0.51777434]\n",
      "[0.45833333 0.42746914 0.41820988 0.46296296 0.4374034 ]\n"
     ]
    }
   ],
   "source": [
    "model = OneVsRestClassifier(LogisticRegression(), n_jobs=2)\n",
    "\n",
    "# 学习并预测comment attitude\n",
    "y = codesample.attitude\n",
    "model.fit(X, y)\n",
    "full['predict_comment_attitude'] = model.predict(dtm_full_1)\n",
    "for model_ in [RandomForestClassifier(), LogisticRegression(), SVC(), BernoulliNB()]:\n",
    "    print(cross_val_score(OneVsRestClassifier(model_), X, y))"
   ]
  },
  {
   "cell_type": "code",
   "execution_count": 172,
   "id": "a5790ef4",
   "metadata": {},
   "outputs": [
    {
     "name": "stdout",
     "output_type": "stream",
     "text": [
      "[0.49228395 0.4845679  0.45216049 0.47685185 0.5301391 ]\n",
      "[0.53395062 0.50154321 0.44907407 0.50617284 0.53323029]\n",
      "[0.5        0.49074074 0.45679012 0.48302469 0.51777434]\n",
      "[0.45833333 0.42746914 0.41820988 0.46296296 0.4374034 ]\n"
     ]
    }
   ],
   "source": [
    "model = OneVsRestClassifier(LogisticRegression(), n_jobs=2)\n",
    "\n",
    "# 学习并预测comment attitude\n",
    "y = codesample.attitude\n",
    "model.fit(X, y)\n",
    "full['predict_reply_attitude'] = model.predict(dtm_full_2)\n",
    "for model_ in [RandomForestClassifier(), LogisticRegression(), SVC(), BernoulliNB()]:\n",
    "    print(cross_val_score(OneVsRestClassifier(model_), X, y))"
   ]
  },
  {
   "cell_type": "code",
   "execution_count": 173,
   "id": "ebdcedfa",
   "metadata": {},
   "outputs": [],
   "source": [
    "# 保存全样本预测结果\n",
    "full.to_csv('comment_merge_predict9.csv', index = None, encoding = 'gb18030')"
   ]
  },
  {
   "cell_type": "code",
   "execution_count": 14,
   "id": "e27717a7",
   "metadata": {},
   "outputs": [
    {
     "name": "stderr",
     "output_type": "stream",
     "text": [
      "/Users/liyuhan/opt/anaconda3/lib/python3.7/site-packages/sklearn/linear_model/_logistic.py:818: ConvergenceWarning: lbfgs failed to converge (status=1):\n",
      "STOP: TOTAL NO. of ITERATIONS REACHED LIMIT.\n",
      "\n",
      "Increase the number of iterations (max_iter) or scale the data as shown in:\n",
      "    https://scikit-learn.org/stable/modules/preprocessing.html\n",
      "Please also refer to the documentation for alternative solver options:\n",
      "    https://scikit-learn.org/stable/modules/linear_model.html#logistic-regression\n",
      "  extra_warning_msg=_LOGISTIC_SOLVER_CONVERGENCE_MSG,\n"
     ]
    },
    {
     "ename": "TypeError",
     "evalue": "cross_val_score() missing 1 required positional argument: 'X'",
     "output_type": "error",
     "traceback": [
      "\u001b[0;31m---------------------------------------------------------------------------\u001b[0m",
      "\u001b[0;31mTypeError\u001b[0m                                 Traceback (most recent call last)",
      "\u001b[0;32m<ipython-input-14-3db80f2d0853>\u001b[0m in \u001b[0;36m<module>\u001b[0;34m\u001b[0m\n\u001b[1;32m      4\u001b[0m \u001b[0mfull\u001b[0m\u001b[0;34m[\u001b[0m\u001b[0;34m'predict_comment_a2'\u001b[0m\u001b[0;34m]\u001b[0m \u001b[0;34m=\u001b[0m \u001b[0mmodel\u001b[0m\u001b[0;34m.\u001b[0m\u001b[0mpredict\u001b[0m\u001b[0;34m(\u001b[0m\u001b[0mdtm_full_1\u001b[0m\u001b[0;34m)\u001b[0m\u001b[0;34m\u001b[0m\u001b[0;34m\u001b[0m\u001b[0m\n\u001b[1;32m      5\u001b[0m \u001b[0;32mfor\u001b[0m \u001b[0mmodel_\u001b[0m \u001b[0;32min\u001b[0m \u001b[0;34m[\u001b[0m\u001b[0mRandomForestClassifier\u001b[0m\u001b[0;34m(\u001b[0m\u001b[0;34m)\u001b[0m\u001b[0;34m,\u001b[0m \u001b[0mLogisticRegression\u001b[0m\u001b[0;34m(\u001b[0m\u001b[0;34m)\u001b[0m\u001b[0;34m,\u001b[0m \u001b[0mSVC\u001b[0m\u001b[0;34m(\u001b[0m\u001b[0;34m)\u001b[0m\u001b[0;34m,\u001b[0m \u001b[0mBernoulliNB\u001b[0m\u001b[0;34m(\u001b[0m\u001b[0;34m)\u001b[0m\u001b[0;34m]\u001b[0m\u001b[0;34m:\u001b[0m\u001b[0;34m\u001b[0m\u001b[0;34m\u001b[0m\u001b[0m\n\u001b[0;32m----> 6\u001b[0;31m     \u001b[0mprint\u001b[0m\u001b[0;34m(\u001b[0m\u001b[0mcross_val_score\u001b[0m\u001b[0;34m(\u001b[0m\u001b[0mOneVsRestClassifier\u001b[0m\u001b[0;34m(\u001b[0m\u001b[0mmodel_\u001b[0m\u001b[0;34m)\u001b[0m\u001b[0;34m)\u001b[0m\u001b[0;34m,\u001b[0m \u001b[0mX\u001b[0m\u001b[0;34m,\u001b[0m \u001b[0my\u001b[0m\u001b[0;34m)\u001b[0m\u001b[0;34m\u001b[0m\u001b[0;34m\u001b[0m\u001b[0m\n\u001b[0m",
      "\u001b[0;31mTypeError\u001b[0m: cross_val_score() missing 1 required positional argument: 'X'"
     ]
    }
   ],
   "source": [
    "# 学习并预测态度a2:sceptics\n",
    "y = codesample.a2\n",
    "model.fit(X, y)\n",
    "full['predict_comment_a2'] = model.predict(dtm_full_1)\n",
    "for model_ in [RandomForestClassifier(), LogisticRegression(), SVC(), BernoulliNB()]:\n",
    "    print(cross_val_score(OneVsRestClassifier(model_)), X, y)"
   ]
  },
  {
   "cell_type": "code",
   "execution_count": 52,
   "id": "c5e976a2",
   "metadata": {},
   "outputs": [
    {
     "name": "stdout",
     "output_type": "stream",
     "text": [
      "[0.82833333 0.815      0.82166667 0.79833333 0.83      ]\n",
      "[0.83666667 0.82       0.82       0.80666667 0.83666667]\n",
      "[0.84166667 0.83833333 0.83666667 0.83666667 0.83833333]\n",
      "[0.80333333 0.79166667 0.79833333 0.77166667 0.80333333]\n"
     ]
    }
   ],
   "source": [
    "# 学习并预测态度a3:neutral\n",
    "y = codesample.a3\n",
    "model.fit(X, y)\n",
    "full['predict_comment_a3'] = model.predict(dtm_full_1)\n",
    "for model_ in [RandomForestClassifier(), LogisticRegression(), SVC(), BernoulliNB()]:\n",
    "    print(cross_val_score(OneVsRestClassifier(model_), X, y))"
   ]
  },
  {
   "cell_type": "code",
   "execution_count": 53,
   "id": "009f302f",
   "metadata": {},
   "outputs": [
    {
     "name": "stdout",
     "output_type": "stream",
     "text": [
      "[0.78833333 0.74833333 0.73333333 0.73       0.725     ]\n",
      "[0.79166667 0.77833333 0.72833333 0.735      0.745     ]\n",
      "[0.69833333 0.71       0.69666667 0.69333333 0.70833333]\n",
      "[0.73       0.725      0.71       0.715      0.71833333]\n"
     ]
    }
   ],
   "source": [
    "# 学习并预测态度a4:none\n",
    "y = codesample.a4\n",
    "model.fit(X, y)\n",
    "full['predict_comment_a4'] = model.predict(dtm_full_1)\n",
    "for model_ in [RandomForestClassifier(), LogisticRegression(), SVC(), BernoulliNB()]:\n",
    "    print(cross_val_score(OneVsRestClassifier(model_), X, y))"
   ]
  },
  {
   "cell_type": "code",
   "execution_count": 54,
   "id": "3e215daa",
   "metadata": {},
   "outputs": [
    {
     "name": "stdout",
     "output_type": "stream",
     "text": [
      "[0.76833333 0.68333333 0.75333333 0.69166667 0.75      ]\n",
      "[0.77833333 0.73166667 0.76833333 0.7        0.78833333]\n",
      "[0.74666667 0.72666667 0.73333333 0.72666667 0.74166667]\n",
      "[0.735      0.68       0.72333333 0.69333333 0.73166667]\n"
     ]
    }
   ],
   "source": [
    "# 学习并预测reply态度a1:activist\n",
    "y = codesample.a1\n",
    "model.fit(X, y)\n",
    "full['predict_reply_a1'] = model.predict(dtm_full_2)\n",
    "for model_ in [RandomForestClassifier(), LogisticRegression(), SVC(), BernoulliNB()]:\n",
    "    print(cross_val_score(OneVsRestClassifier(model_), X, y))"
   ]
  },
  {
   "cell_type": "code",
   "execution_count": 55,
   "id": "4268e311",
   "metadata": {},
   "outputs": [
    {
     "name": "stderr",
     "output_type": "stream",
     "text": [
      "/Users/liyuhan/opt/anaconda3/lib/python3.7/site-packages/sklearn/model_selection/_split.py:680: UserWarning: The least populated class in y has only 1 members, which is less than n_splits=5.\n",
      "  UserWarning,\n"
     ]
    },
    {
     "name": "stdout",
     "output_type": "stream",
     "text": [
      "[0.74333333 0.795      0.73833333 0.75666667 0.78333333]\n"
     ]
    },
    {
     "name": "stderr",
     "output_type": "stream",
     "text": [
      "/Users/liyuhan/opt/anaconda3/lib/python3.7/site-packages/sklearn/model_selection/_split.py:680: UserWarning: The least populated class in y has only 1 members, which is less than n_splits=5.\n",
      "  UserWarning,\n"
     ]
    },
    {
     "name": "stdout",
     "output_type": "stream",
     "text": [
      "[0.755      0.78333333 0.765      0.755      0.78666667]\n"
     ]
    },
    {
     "name": "stderr",
     "output_type": "stream",
     "text": [
      "/Users/liyuhan/opt/anaconda3/lib/python3.7/site-packages/sklearn/model_selection/_split.py:680: UserWarning: The least populated class in y has only 1 members, which is less than n_splits=5.\n",
      "  UserWarning,\n"
     ]
    },
    {
     "name": "stdout",
     "output_type": "stream",
     "text": [
      "[0.76       0.76166667 0.755      0.755      0.76      ]\n",
      "[0.70833333 0.71333333 0.72       0.70666667 0.72166667]\n"
     ]
    },
    {
     "name": "stderr",
     "output_type": "stream",
     "text": [
      "/Users/liyuhan/opt/anaconda3/lib/python3.7/site-packages/sklearn/model_selection/_split.py:680: UserWarning: The least populated class in y has only 1 members, which is less than n_splits=5.\n",
      "  UserWarning,\n"
     ]
    }
   ],
   "source": [
    "# 学习并预测reply态度a2:sceptic\n",
    "y = codesample.a2\n",
    "model.fit(X, y)\n",
    "full['predict_reply_a2'] = model.predict(dtm_full_2)\n",
    "for model_ in [RandomForestClassifier(), LogisticRegression(), SVC(), BernoulliNB()]:\n",
    "    print(cross_val_score(OneVsRestClassifier(model_), X, y))"
   ]
  },
  {
   "cell_type": "code",
   "execution_count": 56,
   "id": "a0adc34b",
   "metadata": {},
   "outputs": [
    {
     "name": "stdout",
     "output_type": "stream",
     "text": [
      "[0.82666667 0.81833333 0.81333333 0.795      0.835     ]\n",
      "[0.83666667 0.82       0.82       0.80666667 0.83666667]\n",
      "[0.84166667 0.83833333 0.83666667 0.83666667 0.83833333]\n",
      "[0.80333333 0.79166667 0.79833333 0.77166667 0.80333333]\n"
     ]
    }
   ],
   "source": [
    "# 学习并预测reply态度a3:neutral\n",
    "y = codesample.a3\n",
    "model.fit(X, y)\n",
    "full['predict_reply_a3'] = model.predict(dtm_full_2)\n",
    "for model_ in [RandomForestClassifier(), LogisticRegression(), SVC(), BernoulliNB()]:\n",
    "    print(cross_val_score(OneVsRestClassifier(model_), X, y))"
   ]
  },
  {
   "cell_type": "code",
   "execution_count": 57,
   "id": "28de9dea",
   "metadata": {},
   "outputs": [
    {
     "name": "stdout",
     "output_type": "stream",
     "text": [
      "[0.795      0.75166667 0.73833333 0.73166667 0.72666667]\n",
      "[0.79166667 0.77833333 0.72833333 0.735      0.745     ]\n",
      "[0.69833333 0.71       0.69666667 0.69333333 0.70833333]\n",
      "[0.73       0.725      0.71       0.715      0.71833333]\n"
     ]
    }
   ],
   "source": [
    "# 学习并预测reply态度a4:none\n",
    "y = codesample.a4\n",
    "model.fit(X, y)\n",
    "full['predict_reply_a4'] = model.predict(dtm_full_2)\n",
    "for model_ in [RandomForestClassifier(), LogisticRegression(), SVC(), BernoulliNB()]:\n",
    "    print(cross_val_score(OneVsRestClassifier(model_), X, y))"
   ]
  },
  {
   "cell_type": "code",
   "execution_count": 58,
   "id": "688ce122",
   "metadata": {},
   "outputs": [],
   "source": [
    "# 保存全样本预测结果\n",
    "full.to_csv('comment_merge_predict2.csv', index = None, encoding = 'gb18030')"
   ]
  },
  {
   "cell_type": "code",
   "execution_count": null,
   "id": "32373531",
   "metadata": {},
   "outputs": [],
   "source": []
  }
 ],
 "metadata": {
  "kernelspec": {
   "display_name": "Python 3",
   "language": "python",
   "name": "python3"
  },
  "language_info": {
   "codemirror_mode": {
    "name": "ipython",
    "version": 3
   },
   "file_extension": ".py",
   "mimetype": "text/x-python",
   "name": "python",
   "nbconvert_exporter": "python",
   "pygments_lexer": "ipython3",
   "version": "3.7.11"
  }
 },
 "nbformat": 4,
 "nbformat_minor": 5
}
